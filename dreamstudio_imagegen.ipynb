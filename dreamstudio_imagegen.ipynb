{
 "cells": [
  {
   "cell_type": "code",
   "execution_count": 1,
   "id": "9957f57b-2e51-4bab-a4cd-46b96a7ad120",
   "metadata": {
    "tags": []
   },
   "outputs": [
    {
     "name": "stdout",
     "output_type": "stream",
     "text": [
      "Collecting stability-sdk\n",
      "  Downloading stability_sdk-0.7.0-py3-none-any.whl (51 kB)\n",
      "\u001b[2K     \u001b[90m━━━━━━━━━━━━━━━━━━━━━━━━━━━━━━━━━━━━━━━━\u001b[0m \u001b[32m51.0/51.0 KB\u001b[0m \u001b[31m1.4 MB/s\u001b[0m eta \u001b[36m0:00:00\u001b[0m\n",
      "\u001b[?25hCollecting python-dotenv\n",
      "  Downloading python_dotenv-1.0.0-py3-none-any.whl (19 kB)\n",
      "Collecting grpcio==1.53.0\n",
      "  Downloading grpcio-1.53.0-cp310-cp310-manylinux_2_17_x86_64.manylinux2014_x86_64.whl (5.0 MB)\n",
      "\u001b[2K     \u001b[90m━━━━━━━━━━━━━━━━━━━━━━━━━━━━━━━━━━━━━━━━\u001b[0m \u001b[32m5.0/5.0 MB\u001b[0m \u001b[31m20.3 MB/s\u001b[0m eta \u001b[36m0:00:00\u001b[0m00:01\u001b[0m00:01\u001b[0m\n",
      "\u001b[?25hCollecting protobuf==4.21.12\n",
      "  Downloading protobuf-4.21.12-cp37-abi3-manylinux2014_x86_64.whl (409 kB)\n",
      "\u001b[2K     \u001b[90m━━━━━━━━━━━━━━━━━━━━━━━━━━━━━━━━━━━━━━\u001b[0m \u001b[32m409.8/409.8 KB\u001b[0m \u001b[31m17.6 MB/s\u001b[0m eta \u001b[36m0:00:00\u001b[0m\n",
      "\u001b[?25hRequirement already satisfied: Pillow in ./venv/lib/python3.10/site-packages (from stability-sdk) (9.5.0)\n",
      "Collecting grpcio-tools==1.53.0\n",
      "  Downloading grpcio_tools-1.53.0-cp310-cp310-manylinux_2_17_x86_64.manylinux2014_x86_64.whl (2.4 MB)\n",
      "\u001b[2K     \u001b[90m━━━━━━━━━━━━━━━━━━━━━━━━━━━━━━━━━━━━━━━━\u001b[0m \u001b[32m2.4/2.4 MB\u001b[0m \u001b[31m25.3 MB/s\u001b[0m eta \u001b[36m0:00:00\u001b[0m00:01\u001b[0m00:01\u001b[0m\n",
      "\u001b[?25hRequirement already satisfied: setuptools in ./venv/lib/python3.10/site-packages (from grpcio-tools==1.53.0->stability-sdk) (59.6.0)\n",
      "Installing collected packages: python-dotenv, protobuf, grpcio, grpcio-tools, stability-sdk\n",
      "Successfully installed grpcio-1.53.0 grpcio-tools-1.53.0 protobuf-4.21.12 python-dotenv-1.0.0 stability-sdk-0.7.0\n"
     ]
    }
   ],
   "source": [
    "#!pip install stability-sdk"
   ]
  },
  {
   "cell_type": "code",
   "execution_count": 1,
   "id": "a3650e0e-3095-4b5b-adf0-44a05d0427d2",
   "metadata": {
    "tags": []
   },
   "outputs": [],
   "source": [
    "import json\n",
    "\n",
    "with open('prompts.json', 'r') as file:\n",
    "    prompts = json.load(file)"
   ]
  },
  {
   "cell_type": "code",
   "execution_count": 2,
   "id": "88891307-cb58-4cae-8ee0-4c55a01dfa53",
   "metadata": {
    "tags": []
   },
   "outputs": [],
   "source": [
    "import os\n",
    "import io\n",
    "import warnings\n",
    "from PIL import Image\n",
    "from stability_sdk import client\n",
    "import stability_sdk.interfaces.gooseai.generation.generation_pb2 as generation\n",
    "\n",
    "# Our Host URL should not be prepended with \"https\" nor should it have a trailing slash.\n",
    "os.environ['STABILITY_HOST'] = 'grpc.stability.ai:443'\n",
    "os.environ['STABILITY_KEY'] = 'sk-mS7bJddnPqIZCVO1nsJH8A6PEARswjjUzsTa5na97gxhWE3h'"
   ]
  },
  {
   "cell_type": "code",
   "execution_count": 3,
   "id": "9f7d3890-8394-4888-bab3-43411fe803a4",
   "metadata": {
    "tags": []
   },
   "outputs": [],
   "source": [
    "# Set up our connection to the API.\n",
    "stability_api = client.StabilityInference(\n",
    "    key=os.environ['STABILITY_KEY'], # API Key reference.\n",
    "    verbose=True, # Print debug messages.\n",
    "    engine=\"stable-diffusion-xl-beta-v2-2-2\", # Set the engine to use for generation.\n",
    "    # Available engines: stable-diffusion-v1 stable-diffusion-v1-5 stable-diffusion-512-v2-0 stable-diffusion-768-v2-0\n",
    "    # stable-diffusion-512-v2-1 stable-diffusion-768-v2-1 stable-diffusion-xl-beta-v2-2-2 stable-inpainting-v1-0 stable-inpainting-512-v2-0\n",
    ")"
   ]
  },
  {
   "cell_type": "code",
   "execution_count": 4,
   "id": "f47b01b4-3a4e-43aa-aea0-fc7f49692851",
   "metadata": {
    "tags": []
   },
   "outputs": [],
   "source": [
    "# Set up our initial generation parameters.\n",
    "# answers = stability_api.generate(\n",
    "#     prompt=\"tall man smiling at a zebra\",\n",
    "#     seed=999946758, # If a seed is provided, the resulting generated image will be deterministic.\n",
    "#                     # What this means is that as long as all generation parameters remain the same, you can always recall the same image simply by generating it again.\n",
    "#                     # Note: This isn't quite the case for CLIP Guided generations, which we tackle in the CLIP Guidance documentation.\n",
    "#     steps=30, # Amount of inference steps performed on image generation. Defaults to 30.\n",
    "#     cfg_scale=10.0, # Influences how strongly your generation is guided to match your prompt.\n",
    "#                    # Setting this value higher increases the strength in which it tries to match your prompt.\n",
    "#                    # Defaults to 7.0 if not specified.\n",
    "#     width=512, # Generation width, defaults to 512 if not included.\n",
    "#     height=512, # Generation height, defaults to 512 if not included.\n",
    "#     samples=1, # Number of images to generate, defaults to 1 if not included.\n",
    "#     sampler=generation.SAMPLER_K_DPMPP_2M # Choose which sampler we want to denoise our generation with.\n",
    "#                                                  # Defaults to k_dpmpp_2m if not specified. Clip Guidance only supports ancestral samplers.\n",
    "#                                                  # (Available Samplers: ddim, plms, k_euler, k_euler_ancestral, k_heun, k_dpm_2, k_dpm_2_ancestral, k_dpmpp_2s_ancestral, k_lms, k_dpmpp_2m, k_dpmpp_sde)\n",
    "# )\n",
    "\n",
    "# # Set up our warning to print to the console if the adult content classifier is tripped.\n",
    "# # If adult content classifier is not tripped, save generated images.\n",
    "# for resp in answers:\n",
    "#     for artifact in resp.artifacts:\n",
    "#         if artifact.finish_reason == generation.FILTER:\n",
    "#             warnings.warn(\n",
    "#                 \"Your request activated the API's safety filters and could not be processed.\"\n",
    "#                 \"Please modify the prompt and try again.\")\n",
    "#         if artifact.type == generation.ARTIFACT_IMAGE:\n",
    "#             img = Image.open(io.BytesIO(artifact.binary))\n",
    "#             img.save(str(artifact.seed)+ \".png\") # Save our generated images with their seed number as the filename."
   ]
  },
  {
   "cell_type": "code",
   "execution_count": 7,
   "id": "c6b66f8d-cd6f-477a-97ca-6409c1d30901",
   "metadata": {
    "tags": []
   },
   "outputs": [],
   "source": [
    "for key, val in prompts.items():\n",
    "    if int(key)<=283:\n",
    "        continue\n",
    "    for i in range(len(val[\"llm_desc\"])):\n",
    "        description = val[\"llm_desc\"][i]\n",
    "        answers = stability_api.generate(\n",
    "            prompt=description,\n",
    "            seed=999946758,\n",
    "            steps=30,\n",
    "            cfg_scale=10.0,\n",
    "            width=512,\n",
    "            height=512,\n",
    "            samples=1,\n",
    "            sampler=generation.SAMPLER_K_DPMPP_2M\n",
    "        )\n",
    "        for resp in answers:\n",
    "            for artifact in resp.artifacts:\n",
    "                if artifact.finish_reason == generation.FILTER:\n",
    "                    warnings.warn(\n",
    "                        \"Your request activated the API's safety filters and could not be processed.\"\n",
    "                        \"Please modify the prompt and try again.\")\n",
    "                if artifact.type == generation.ARTIFACT_IMAGE:\n",
    "                    img = Image.open(io.BytesIO(artifact.binary))\n",
    "                    img.save(f\"{key}_{i}.jpg\")"
   ]
  },
  {
   "cell_type": "code",
   "execution_count": null,
   "id": "f442544c-aecc-411f-9c80-292ed8a841f9",
   "metadata": {},
   "outputs": [],
   "source": []
  }
 ],
 "metadata": {
  "kernelspec": {
   "display_name": "Python 3 (ipykernel)",
   "language": "python",
   "name": "python3"
  },
  "language_info": {
   "codemirror_mode": {
    "name": "ipython",
    "version": 3
   },
   "file_extension": ".py",
   "mimetype": "text/x-python",
   "name": "python",
   "nbconvert_exporter": "python",
   "pygments_lexer": "ipython3",
   "version": "3.10.6"
  }
 },
 "nbformat": 4,
 "nbformat_minor": 5
}
