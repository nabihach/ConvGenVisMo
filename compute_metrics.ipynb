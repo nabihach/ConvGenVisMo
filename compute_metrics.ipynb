{
 "cells": [
  {
   "cell_type": "code",
   "execution_count": 1,
   "id": "41c4c4ec-48f5-48ac-b4fd-22bf555c8187",
   "metadata": {
    "tags": []
   },
   "outputs": [
    {
     "name": "stderr",
     "output_type": "stream",
     "text": [
      "/home/naasghar/convgenvismo/ConvGenVisMo/venv/lib/python3.10/site-packages/tqdm/auto.py:21: TqdmWarning: IProgress not found. Please update jupyter and ipywidgets. See https://ipywidgets.readthedocs.io/en/stable/user_install.html\n",
      "  from .autonotebook import tqdm as notebook_tqdm\n",
      "The `max_size` parameter is deprecated and will be removed in v4.26. Please specify in `size['longest_edge'] instead`.\n"
     ]
    }
   ],
   "source": [
    "import os\n",
    "from tqdm import tqdm\n",
    "from evaluation import ConGenVismoEval\n",
    "\n",
    "eval = ConGenVismoEval()"
   ]
  },
  {
   "cell_type": "code",
   "execution_count": 3,
   "id": "ffe0ab7f-1889-4c85-b59b-61952d7d1fe0",
   "metadata": {
    "tags": []
   },
   "outputs": [
    {
     "name": "stdout",
     "output_type": "stream",
     "text": [
      "[]\n"
     ]
    }
   ],
   "source": [
    "eval.iou_wrapper(f\"dataset/images/1.jpeg\", f\"generated_images_dreamstudio/1_1.jpg\")"
   ]
  },
  {
   "cell_type": "code",
   "execution_count": 2,
   "id": "387c39ef-44d6-4ef6-9ecf-2bb72e9eded4",
   "metadata": {
    "tags": []
   },
   "outputs": [
    {
     "name": "stderr",
     "output_type": "stream",
     "text": [
      "100%|██████████████████████████████████████████████████████████████████████████████| 181/181 [5:31:28<00:00, 109.88s/it]\n"
     ]
    }
   ],
   "source": [
    "all_scores = {} # key is img_id, val is dict of all scores\n",
    "\n",
    "for gt_item in tqdm(os.listdir('dataset/images')):\n",
    "    # TODO: need to do something about heic images\n",
    "    #if gt_item.split(\".\")[1].lower() not in ['jpg', 'jpeg', 'png']:\n",
    "    #    continue\n",
    "    img_id = gt_item.split(\".\")[0]\n",
    "    all_scores[img_id] = {'clip_scores': [], 'psnr_scores': [], 'brisque_scores': [], 'uqi_scores': [], 'ssim_scores': [], 'iou_scores': [], 'ep_scores': []}\n",
    "    for hop_id in range(20):\n",
    "        if os.path.exists(f\"generated_images_dreamstudio/{img_id}_{hop_id}.jpg\"):\n",
    "            clip_score = eval.clip_sim(f\"dataset/images/{gt_item}\", f\"generated_images_dreamstudio/{img_id}_{hop_id}.jpg\")\n",
    "            psnr_score = eval.psnr(f\"dataset/images/{gt_item}\", f\"generated_images_dreamstudio/{img_id}_{hop_id}.jpg\")\n",
    "            brisque_score = eval.brisque(f\"generated_images_dreamstudio/{img_id}_{hop_id}.jpg\")\n",
    "            uqi_score = eval.uqi(f\"dataset/images/{gt_item}\", f\"generated_images_dreamstudio/{img_id}_{hop_id}.jpg\")\n",
    "            ssim_score = eval.ssim(f\"dataset/images/{gt_item}\", f\"generated_images_dreamstudio/{img_id}_{hop_id}.jpg\")\n",
    "            ep_score = eval.element_presence_scores(f\"dataset/images/{gt_item}\", f\"generated_images_dreamstudio/{img_id}_{hop_id}.jpg\")\n",
    "            iou_score = eval.IoU(f\"dataset/images/{gt_item}\", f\"generated_images_dreamstudio/{img_id}_{hop_id}.jpg\")\n",
    "\n",
    "            all_scores[img_id]['clip_scores'].append(clip_score)\n",
    "            all_scores[img_id]['psnr_scores'].append(psnr_score)\n",
    "            all_scores[img_id]['brisque_scores'].append(brisque_score)\n",
    "            all_scores[img_id]['uqi_scores'].append(uqi_score)\n",
    "            all_scores[img_id]['ssim_scores'].append(ssim_score)\n",
    "            all_scores[img_id]['ep_scores'].append(ep_score)\n",
    "            all_scores[img_id]['iou_scores'].append(iou_score)"
   ]
  },
  {
   "cell_type": "code",
   "execution_count": 3,
   "id": "f34501b6-a83d-4a6c-b146-80e5e673cd9a",
   "metadata": {
    "tags": []
   },
   "outputs": [
    {
     "data": {
      "text/plain": [
       "{'clip_scores': [0.72462946, 0.7578153, 0.84554386, 0.8306278],\n",
       " 'psnr_scores': [4.366343010299197,\n",
       "  7.4384064466939,\n",
       "  4.686286460452656,\n",
       "  5.6113537912105755],\n",
       " 'brisque_scores': [22.328883755338296,\n",
       "  56.79221669256262,\n",
       "  49.07963697000818,\n",
       "  40.43944552548189],\n",
       " 'uqi_scores': [0.4727528016948596,\n",
       "  0.6875292875604909,\n",
       "  0.5000102694729565,\n",
       "  0.5632282362932518],\n",
       " 'ssim_scores': [{'ssim': 0.21083683985345128, 'cs': 0.3933433170242864},\n",
       "  {'ssim': 0.461417076538195, 'cs': 0.5417570082161186},\n",
       "  {'ssim': 0.3218868646451117, 'cs': 0.5398108320529346},\n",
       "  {'ssim': 0.30780912392516463, 'cs': 0.4408278995841581}],\n",
       " 'iou_scores': [],\n",
       " 'ep_scores': [{'precision': 0.0,\n",
       "   'recall': 1,\n",
       "   'f1': 0.0,\n",
       "   'elements': {'img_yt': Counter(), 'img_yhat': Counter({'tie': 1})}},\n",
       "  {'precision': 1,\n",
       "   'recall': 1,\n",
       "   'f1': 1.0,\n",
       "   'elements': {'img_yt': Counter(), 'img_yhat': Counter()}},\n",
       "  {'precision': 1,\n",
       "   'recall': 1,\n",
       "   'f1': 1.0,\n",
       "   'elements': {'img_yt': Counter(), 'img_yhat': Counter()}},\n",
       "  {'precision': 1,\n",
       "   'recall': 1,\n",
       "   'f1': 1.0,\n",
       "   'elements': {'img_yt': Counter(), 'img_yhat': Counter()}}]}"
      ]
     },
     "execution_count": 3,
     "metadata": {},
     "output_type": "execute_result"
    }
   ],
   "source": [
    "all_scores['1']"
   ]
  },
  {
   "cell_type": "code",
   "execution_count": 7,
   "id": "ffbd0e71-f98c-456e-bffd-007bfba263d9",
   "metadata": {
    "tags": []
   },
   "outputs": [],
   "source": [
    "# import pickle\n",
    "# with open('all_scores_new.pickle', 'wb') as handle:\n",
    "#     pickle.dump(all_scores, handle, protocol=pickle.HIGHEST_PROTOCOL)"
   ]
  },
  {
   "cell_type": "code",
   "execution_count": 35,
   "id": "11ad25ed-f4e1-4f3e-8b52-ac5fa1aedd1e",
   "metadata": {
    "tags": []
   },
   "outputs": [],
   "source": [
    "import numpy as np\n",
    "import itertools\n",
    "\n",
    "clip_arrays = []\n",
    "psnr_arrays = []\n",
    "brisque_arrays = []\n",
    "uqi_arrays = []\n",
    "ssim_arrays = []\n",
    "ssim_cs_arrays = []\n",
    "ep_pr_arrays = []\n",
    "ep_re_arrays = []\n",
    "ep_f1_arrays = []\n",
    "#TODO\n",
    "iou_arrays = []\n",
    "\n",
    "for idx in all_scores.keys():\n",
    "    clip_arrays.append(np.array(all_scores[idx]['clip_scores']))\n",
    "    psnr_arrays.append(np.array(all_scores[idx]['psnr_scores']))\n",
    "    brisque_arrays.append(np.array(all_scores[idx]['brisque_scores']))\n",
    "    uqi_arrays.append(np.array(all_scores[idx]['uqi_scores']))\n",
    "    \n",
    "    temp_ssim_list = []\n",
    "    temp_ssim_cs_list = []\n",
    "    for item in all_scores[idx]['ssim_scores']:\n",
    "        temp_ssim_list.append(item['ssim'])\n",
    "        temp_ssim_cs_list.append(item['cs'])\n",
    "    ssim_arrays.append(np.array(temp_ssim_list))\n",
    "    ssim_cs_arrays.append(np.array(temp_ssim_cs_list))\n",
    "    \n",
    "    temp_ep_pr_list = []\n",
    "    temp_ep_re_list = []\n",
    "    temp_ep_f1_list = []\n",
    "    for item in all_scores[idx]['ep_scores']:\n",
    "        temp_ep_pr_list.append(item['precision'])\n",
    "        temp_ep_re_list.append(item['recall'])\n",
    "        temp_ep_f1_list.append(item['f1'])\n",
    "    ep_pr_arrays.append(np.array(temp_ep_pr_list))\n",
    "    ep_re_arrays.append(np.array(temp_ep_re_list))\n",
    "    ep_f1_arrays.append(np.array(temp_ep_f1_list))"
   ]
  },
  {
   "cell_type": "code",
   "execution_count": 38,
   "id": "ff99962b-c9da-4c29-ae9f-2fa832cd73d9",
   "metadata": {
    "tags": []
   },
   "outputs": [],
   "source": [
    "zipped_clip_arrays = list(itertools.zip_longest(*clip_arrays, fillvalue=np.nan))\n",
    "zipped_psnr_arrays = list(itertools.zip_longest(*psnr_arrays, fillvalue=np.nan))\n",
    "zipped_brisque_arrays = list(itertools.zip_longest(*brisque_arrays, fillvalue=np.nan))\n",
    "zipped_uqi_arrays = list(itertools.zip_longest(*uqi_arrays, fillvalue=np.nan))\n",
    "zipped_ssim_arrays = list(itertools.zip_longest(*ssim_arrays, fillvalue=np.nan))\n",
    "zipped_ssim_cs_arrays = list(itertools.zip_longest(*ssim_cs_arrays, fillvalue=np.nan))\n",
    "zipped_ep_pr_arrays = list(itertools.zip_longest(*ep_pr_arrays, fillvalue=np.nan))\n",
    "zipped_ep_re_arrays = list(itertools.zip_longest(*ep_re_arrays, fillvalue=np.nan))\n",
    "zipped_ep_f1_arrays = list(itertools.zip_longest(*ep_f1_arrays, fillvalue=np.nan))\n",
    "\n",
    "clip_means = [np.nanmean(k) for k in zipped_clip_arrays]\n",
    "psnr_means = [np.nanmean(k) for k in zipped_psnr_arrays]\n",
    "brisque_means = [np.nanmean(k) for k in zipped_brisque_arrays]\n",
    "uqi_means = [np.nanmean(k) for k in zipped_uqi_arrays]\n",
    "ssim_means = [np.nanmean(k) for k in zipped_ssim_arrays]\n",
    "ssim_cs_means = [np.nanmean(k) for k in zipped_ssim_cs_arrays]\n",
    "ep_pr_means = [np.nanmean(k) for k in zipped_ep_pr_arrays]\n",
    "ep_re_means = [np.nanmean(k) for k in zipped_ep_re_arrays]\n",
    "ep_f1_means = [np.nanmean(k) for k in zipped_ep_f1_arrays]"
   ]
  },
  {
   "cell_type": "code",
   "execution_count": 39,
   "id": "94bb4737-de9e-42d2-a71b-f004df4d9683",
   "metadata": {
    "tags": []
   },
   "outputs": [
    {
     "data": {
      "text/plain": [
       "[0.6525051323806539,\n",
       " 0.6926656111457644,\n",
       " 0.6898759615714433,\n",
       " 0.7053064056805202,\n",
       " 0.6899990737438202]"
      ]
     },
     "execution_count": 39,
     "metadata": {},
     "output_type": "execute_result"
    }
   ],
   "source": [
    "clip_means"
   ]
  },
  {
   "cell_type": "code",
   "execution_count": 40,
   "id": "83eb98f7-f3ec-460c-944c-b1112e665e99",
   "metadata": {
    "tags": []
   },
   "outputs": [
    {
     "data": {
      "text/plain": [
       "[7.7369451546326395,\n",
       " 7.755316516769266,\n",
       " 7.836880434071172,\n",
       " 7.5672060971566095,\n",
       " 8.137024707192404]"
      ]
     },
     "execution_count": 40,
     "metadata": {},
     "output_type": "execute_result"
    }
   ],
   "source": [
    "psnr_means"
   ]
  },
  {
   "cell_type": "code",
   "execution_count": 41,
   "id": "aa7028a3-5667-4fdb-bf9e-95e3d0cc5b82",
   "metadata": {
    "tags": []
   },
   "outputs": [
    {
     "data": {
      "text/plain": [
       "[22.0955106867713,\n",
       " 23.90000848688206,\n",
       " 24.436409306775644,\n",
       " 23.805564025355793,\n",
       " 22.505335926714537]"
      ]
     },
     "execution_count": 41,
     "metadata": {},
     "output_type": "execute_result"
    }
   ],
   "source": [
    "brisque_means"
   ]
  },
  {
   "cell_type": "code",
   "execution_count": 42,
   "id": "22b64707-7d1f-4d05-81da-2d9fc84782b9",
   "metadata": {
    "tags": []
   },
   "outputs": [
    {
     "data": {
      "text/plain": [
       "[0.5182985800823238,\n",
       " 0.5172375004745569,\n",
       " 0.5193707431766358,\n",
       " 0.490732317900807,\n",
       " 0.5044970034112408]"
      ]
     },
     "execution_count": 42,
     "metadata": {},
     "output_type": "execute_result"
    }
   ],
   "source": [
    "uqi_means"
   ]
  },
  {
   "cell_type": "code",
   "execution_count": 43,
   "id": "9e7fad0d-dfeb-4d83-be36-28250886e683",
   "metadata": {
    "tags": []
   },
   "outputs": [
    {
     "data": {
      "text/plain": [
       "[0.21511968892954944,\n",
       " 0.21650630580941543,\n",
       " 0.2196944585225244,\n",
       " 0.23109663711251105,\n",
       " 0.2279747389445503]"
      ]
     },
     "execution_count": 43,
     "metadata": {},
     "output_type": "execute_result"
    }
   ],
   "source": [
    "ssim_means"
   ]
  },
  {
   "cell_type": "code",
   "execution_count": 44,
   "id": "5ab420e4-55c2-4e55-ac74-b6df77bf3666",
   "metadata": {
    "tags": []
   },
   "outputs": [
    {
     "data": {
      "text/plain": [
       "[0.33775450610792596,\n",
       " 0.33932340145640427,\n",
       " 0.34221714086945426,\n",
       " 0.37734725507437705,\n",
       " 0.372826975816248]"
      ]
     },
     "execution_count": 44,
     "metadata": {},
     "output_type": "execute_result"
    }
   ],
   "source": [
    "ssim_cs_means"
   ]
  },
  {
   "cell_type": "code",
   "execution_count": 45,
   "id": "3262f4c1-eaf6-459b-9b0d-aacfcec0e92a",
   "metadata": {
    "tags": []
   },
   "outputs": [
    {
     "data": {
      "text/plain": [
       "[0.48672999901715075,\n",
       " 0.4699865461193709,\n",
       " 0.48994334445154114,\n",
       " 0.39975262832405684,\n",
       " 0.275]"
      ]
     },
     "execution_count": 45,
     "metadata": {},
     "output_type": "execute_result"
    }
   ],
   "source": [
    "ep_pr_means"
   ]
  },
  {
   "cell_type": "code",
   "execution_count": 46,
   "id": "5823c802-4112-455c-87d0-18a5a9eec291",
   "metadata": {
    "tags": []
   },
   "outputs": [
    {
     "data": {
      "text/plain": [
       "[0.5092939848822203,\n",
       " 0.5287791213826716,\n",
       " 0.5471369553336766,\n",
       " 0.5687878787878787,\n",
       " 0.78125]"
      ]
     },
     "execution_count": 46,
     "metadata": {},
     "output_type": "execute_result"
    }
   ],
   "source": [
    "ep_re_means"
   ]
  },
  {
   "cell_type": "code",
   "execution_count": 47,
   "id": "6e1225fc-c2c3-4504-a9fc-ca6135774c11",
   "metadata": {
    "tags": []
   },
   "outputs": [
    {
     "data": {
      "text/plain": [
       "[0.30528898483352496,\n",
       " 0.2894530070535867,\n",
       " 0.31780159991536433,\n",
       " 0.3363760049474335,\n",
       " 0.37916666666666665]"
      ]
     },
     "execution_count": 47,
     "metadata": {},
     "output_type": "execute_result"
    }
   ],
   "source": [
    "ep_f1_means"
   ]
  },
  {
   "cell_type": "code",
   "execution_count": null,
   "id": "6c501286-7013-4e1b-b40d-7eb77aa82907",
   "metadata": {
    "tags": []
   },
   "outputs": [],
   "source": [
    "#!pip install matplotlib"
   ]
  },
  {
   "cell_type": "code",
   "execution_count": 62,
   "id": "64a1b31c-9a6f-49bf-b137-cfcec3207dd9",
   "metadata": {
    "tags": []
   },
   "outputs": [
    {
     "data": {
      "image/png": "[encoded data removed]",
      "text/plain": [
       "<Figure size 640x480 with 1 Axes>"
      ]
     },
     "metadata": {},
     "output_type": "display_data"
    }
   ],
   "source": [
    "import matplotlib.pyplot as plt\n",
    "\n",
    "xs = [0, 2, 4, 6, 8]\n",
    "\n",
    "plt.plot(xs, clip_means, color='red', label='CLIP')\n",
    "#plt.plot(xs, psnr_means, color='magenta', label='PSNR')\n",
    "#plt.plot(xs, brisque_means, color='green', label='Brisque')\n",
    "plt.plot(xs, uqi_means, color='blue', label='UQI')\n",
    "plt.plot(xs, ssim_means, color='cyan', label='SSim')\n",
    "plt.plot(xs, ssim_cs_means, color='yellow', label='SSim_CS')\n",
    "plt.plot(xs, ep_pr_means, color='black', label='EP_Prec')\n",
    "plt.plot(xs, ep_re_means, color='orange', label='EP_Rec')\n",
    "plt.plot(xs, ep_f1_means, color='pink', label='EP_F1')\n",
    "plt.legend(loc=\"upper left\")\n",
    "plt.xlabel('Conversation Length', fontsize=10)\n",
    "plt.ylabel('Scores', fontsize=10)\n",
    "plt.show()\n",
    "\n",
    "#plt.close()"
   ]
  },
  {
   "cell_type": "code",
   "execution_count": 59,
   "id": "7bbdd66b-2f4c-43a3-87a6-9d7ae90e4cea",
   "metadata": {
    "tags": []
   },
   "outputs": [
    {
     "name": "stdout",
     "output_type": "stream",
     "text": [
      "[7.7369451546326395, 7.755316516769266, 7.836880434071172, 7.5672060971566095, 8.137024707192404]\n"
     ]
    }
   ],
   "source": [
    "print(psnr_means)"
   ]
  },
  {
   "cell_type": "code",
   "execution_count": 60,
   "id": "35b300c9-23bd-4638-83a9-62cdc911b356",
   "metadata": {
    "tags": []
   },
   "outputs": [
    {
     "name": "stdout",
     "output_type": "stream",
     "text": [
      "[22.0955106867713, 23.90000848688206, 24.436409306775644, 23.805564025355793, 22.505335926714537]\n"
     ]
    }
   ],
   "source": [
    "print(brisque_means)"
   ]
  },
  {
   "cell_type": "code",
   "execution_count": null,
   "id": "e0086297-231d-4ae4-9762-f7a5052d73bd",
   "metadata": {},
   "outputs": [],
   "source": []
  }
 ],
 "metadata": {
  "kernelspec": {
   "display_name": "Python 3 (ipykernel)",
   "language": "python",
   "name": "python3"
  },
  "language_info": {
   "codemirror_mode": {
    "name": "ipython",
    "version": 3
   },
   "file_extension": ".py",
   "mimetype": "text/x-python",
   "name": "python",
   "nbconvert_exporter": "python",
   "pygments_lexer": "ipython3",
   "version": "3.9.13"
  }
 },
 "nbformat": 4,
 "nbformat_minor": 5
}
