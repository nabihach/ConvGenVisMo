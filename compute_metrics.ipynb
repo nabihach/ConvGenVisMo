{
 "cells": [
  {
   "cell_type": "code",
   "execution_count": 6,
   "id": "41c4c4ec-48f5-48ac-b4fd-22bf555c8187",
   "metadata": {
    "tags": []
   },
   "outputs": [],
   "source": [
    "import os\n",
    "from tqdm import tqdm\n",
    "from evaluation import ConGenVismoEval\n",
    "\n",
    "eval = ConGenVismoEval()"
   ]
  },
  {
   "cell_type": "code",
   "execution_count": null,
   "id": "387c39ef-44d6-4ef6-9ecf-2bb72e9eded4",
   "metadata": {
    "tags": []
   },
   "outputs": [],
   "source": [
    "all_scores = {} # key is img_id, val is dict of all scores\n",
    "\n",
    "for gt_item in tqdm(os.listdir('dataset/images')):\n",
    "    # TODO: need to do something about heic images\n",
    "    if gt_item.split(\".\")[1].lower() not in ['jpg', 'jpeg', 'png']:\n",
    "        continue\n",
    "    img_id = gt_item.split(\".\")[0]\n",
    "    all_scores[img_id] = {'clip_scores': [], 'psnr_scores': [], 'brisque_scores': [], 'uqi_scores': [], 'ssim_scores': [], 'iou_scores': [], 'ep_scores': []}\n",
    "    for hop_id in range(20):\n",
    "        if os.path.exists(f\"generated_images_dreamstudio/{img_id}_{hop_id}.jpg\"):\n",
    "            clip_score = eval.clip_sim(f\"dataset/images/{gt_item}\", f\"generated_images_dreamstudio/{img_id}_{hop_id}.jpg\")\n",
    "            psnr_score = eval.psnr(f\"dataset/images/{gt_item}\", f\"generated_images_dreamstudio/{img_id}_{hop_id}.jpg\")\n",
    "            brisque_score = eval.brisque(f\"generated_images_dreamstudio/{img_id}_{hop_id}.jpg\")\n",
    "            uqi_score = eval.uqi(f\"dataset/images/{gt_item}\", f\"generated_images_dreamstudio/{img_id}_{hop_id}.jpg\")\n",
    "            ssim_score = eval.ssim(f\"dataset/images/{gt_item}\", f\"generated_images_dreamstudio/{img_id}_{hop_id}.jpg\")\n",
    "            ep_score = eval.element_presence_scores(f\"dataset/images/{gt_item}\", f\"generated_images_dreamstudio/{img_id}_{hop_id}.jpg\")\n",
    "\n",
    "            all_scores[img_id]['clip_scores'].append(clip_score)\n",
    "            all_scores[img_id]['psnr_scores'].append(psnr_score)\n",
    "            all_scores[img_id]['brisque_scores'].append(brisque_score)\n",
    "            all_scores[img_id]['uqi_scores'].append(uqi_score)\n",
    "            all_scores[img_id]['ssim_scores'].append(ssim_score)\n",
    "            all_scores[img_id]['ep_scores'].append(ep_score)"
   ]
  },
  {
   "cell_type": "code",
   "execution_count": null,
   "id": "f34501b6-a83d-4a6c-b146-80e5e673cd9a",
   "metadata": {
    "tags": []
   },
   "outputs": [],
   "source": [
    "all_scores"
   ]
  }
 ],
 "metadata": {
  "kernelspec": {
   "display_name": "Python 3 (ipykernel)",
   "language": "python",
   "name": "python3"
  },
  "language_info": {
   "codemirror_mode": {
    "name": "ipython",
    "version": 3
   },
   "file_extension": ".py",
   "mimetype": "text/x-python",
   "name": "python",
   "nbconvert_exporter": "python",
   "pygments_lexer": "ipython3",
   "version": "3.10.6"
  }
 },
 "nbformat": 4,
 "nbformat_minor": 5
}
